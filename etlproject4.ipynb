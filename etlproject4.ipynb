{
 "cells": [
  {
   "cell_type": "code",
   "execution_count": 2,
   "metadata": {},
   "outputs": [],
   "source": [
    "from sqlalchemy.ext.declarative import declarative_base\n",
    "from sqlalchemy import Column, String, Float, Integer\n",
    "from sqlalchemy import create_engine\n",
    "from sqlalchemy.orm import Session\n",
    "\n",
    "import sqlite3"
   ]
  },
  {
   "attachments": {},
   "cell_type": "markdown",
   "metadata": {},
   "source": [
    "## Offstreertcarpark Database"
   ]
  },
  {
   "cell_type": "code",
   "execution_count": 3,
   "metadata": {},
   "outputs": [],
   "source": [
    "# Connect to offstreetparking database\n",
    "conn = sqlite3.connect('./Resources/offstreetcarpark.db')"
   ]
  },
  {
   "cell_type": "code",
   "execution_count": 4,
   "metadata": {},
   "outputs": [
    {
     "name": "stdout",
     "output_type": "stream",
     "text": [
      "[('parking',)]\n"
     ]
    }
   ],
   "source": [
    "# Show the tables in the database\n",
    "cursor = conn.cursor()\n",
    "cursor.execute(\"SELECT name FROM sqlite_master WHERE type='table';\")\n",
    "print(cursor.fetchall())"
   ]
  },
  {
   "cell_type": "code",
   "execution_count": 16,
   "metadata": {},
   "outputs": [
    {
     "name": "stdout",
     "output_type": "stream",
     "text": [
      "[(0, 2011, 912, 102432, 102432, '35 Degraves Street PARKVILLE 3052', 'Parkville', 'Residential', 2, 144.9568, -37.79384), (1, 2011, 912, 102433, 102433, '37 Degraves Street PARKVILLE 3052', 'Parkville', 'Residential', 2, 144.95673, -37.79384), (2, 2011, 912, 107328, 107328, '110 Park Drive PARKVILLE 3052', 'Parkville', 'Residential', 1, 144.95644, -37.793929999999996), (3, 2011, 913, 106769, 106769, '58 Morrah Street PARKVILLE 3052', 'Parkville', 'Residential', 1, 144.9555, -37.79525), (4, 2011, 913, 107340, 107340, '54-58 Park Drive PARKVILLE 3052', 'Parkville', 'Residential', 2, 144.95533, -37.79513)]\n"
     ]
    }
   ],
   "source": [
    "# Show first 5 rows of the table\n",
    "cursor.execute(\"SELECT * FROM parking LIMIT 5;\")\n",
    "print(cursor.fetchall())"
   ]
  },
  {
   "cell_type": "code",
   "execution_count": 6,
   "metadata": {},
   "outputs": [],
   "source": [
    "# Drop the table if it already exists\n",
    "cursor.execute(\"DROP TABLE IF EXISTS parking;\")\n",
    "conn.commit()"
   ]
  },
  {
   "cell_type": "code",
   "execution_count": 7,
   "metadata": {},
   "outputs": [],
   "source": [
    "# Create new parking table\n",
    "cursor.execute(\"CREATE TABLE parking(\\\n",
    "            id INT PRIMARY KEY  NOT NULL,\\\n",
    "            census_year INT,\\\n",
    "            block_id INT,\\\n",
    "            property_id INT,\\\n",
    "            base_property_id INT,\\\n",
    "            building_address CHAR(50),\\\n",
    "            clue_small_area CHAR(20),\\\n",
    "            parking_type CHAR(20),\\\n",
    "            parking_spaces INT,\\\n",
    "            longitude FLOAT,\\\n",
    "            latitude FLOAT\\\n",
    "            );\")\n",
    "conn.commit()             "
   ]
  },
  {
   "cell_type": "code",
   "execution_count": 8,
   "metadata": {},
   "outputs": [],
   "source": [
    "Base = declarative_base()\n",
    "database_path = \"./Resources/offstreetcarpark.db\"\n",
    "engine = create_engine(f\"sqlite:///{database_path}\")\n",
    "Base.metadata.create_all(engine)"
   ]
  },
  {
   "cell_type": "code",
   "execution_count": 9,
   "metadata": {},
   "outputs": [
    {
     "data": {
      "text/plain": [
       "<sqlalchemy.orm.session.Session at 0x7fdf30f21d90>"
      ]
     },
     "execution_count": 9,
     "metadata": {},
     "output_type": "execute_result"
    }
   ],
   "source": [
    "session = Session(bind=engine)\n",
    "session"
   ]
  },
  {
   "cell_type": "code",
   "execution_count": 10,
   "metadata": {},
   "outputs": [],
   "source": [
    "\n",
    "class Park(Base):\n",
    "    __tablename__ = 'parking'\n",
    "    id = Column(Integer(), primary_key=True)\n",
    "    census_year = Column(Integer)\n",
    "    block_id = Column(Integer)\n",
    "    property_id = Column(Integer)\n",
    "    base_property_id = Column(Integer)\n",
    "    building_address = Column(String)\n",
    "    clue_small_area = Column(String)\n",
    "    parking_type = Column(String)\n",
    "    parking_spaces = Column(Integer)\n",
    "    longitude = Column(Float)\n",
    "    latitude = Column(Float)"
   ]
  },
  {
   "cell_type": "code",
   "execution_count": 11,
   "metadata": {},
   "outputs": [],
   "source": [
    "carpark = session.query(Park)"
   ]
  },
  {
   "cell_type": "code",
   "execution_count": 15,
   "metadata": {},
   "outputs": [
    {
     "data": {
      "text/html": [
       "<div>\n",
       "<style scoped>\n",
       "    .dataframe tbody tr th:only-of-type {\n",
       "        vertical-align: middle;\n",
       "    }\n",
       "\n",
       "    .dataframe tbody tr th {\n",
       "        vertical-align: top;\n",
       "    }\n",
       "\n",
       "    .dataframe thead th {\n",
       "        text-align: right;\n",
       "    }\n",
       "</style>\n",
       "<table border=\"1\" class=\"dataframe\">\n",
       "  <thead>\n",
       "    <tr style=\"text-align: right;\">\n",
       "      <th></th>\n",
       "      <th>census_year</th>\n",
       "      <th>block_id</th>\n",
       "      <th>property_id</th>\n",
       "      <th>base_property_id</th>\n",
       "      <th>building_address</th>\n",
       "      <th>clue_small_area</th>\n",
       "      <th>parking_type</th>\n",
       "      <th>parking_spaces</th>\n",
       "      <th>longitude</th>\n",
       "      <th>latitude</th>\n",
       "      <th>id</th>\n",
       "    </tr>\n",
       "  </thead>\n",
       "  <tbody>\n",
       "    <tr>\n",
       "      <th>0</th>\n",
       "      <td>2011</td>\n",
       "      <td>912</td>\n",
       "      <td>102432</td>\n",
       "      <td>102432</td>\n",
       "      <td>35 Degraves Street PARKVILLE 3052</td>\n",
       "      <td>Parkville</td>\n",
       "      <td>Residential</td>\n",
       "      <td>2</td>\n",
       "      <td>144.95680</td>\n",
       "      <td>-37.79384</td>\n",
       "      <td>0</td>\n",
       "    </tr>\n",
       "    <tr>\n",
       "      <th>1</th>\n",
       "      <td>2011</td>\n",
       "      <td>912</td>\n",
       "      <td>102433</td>\n",
       "      <td>102433</td>\n",
       "      <td>37 Degraves Street PARKVILLE 3052</td>\n",
       "      <td>Parkville</td>\n",
       "      <td>Residential</td>\n",
       "      <td>2</td>\n",
       "      <td>144.95673</td>\n",
       "      <td>-37.79384</td>\n",
       "      <td>1</td>\n",
       "    </tr>\n",
       "    <tr>\n",
       "      <th>2</th>\n",
       "      <td>2011</td>\n",
       "      <td>912</td>\n",
       "      <td>107328</td>\n",
       "      <td>107328</td>\n",
       "      <td>110 Park Drive PARKVILLE 3052</td>\n",
       "      <td>Parkville</td>\n",
       "      <td>Residential</td>\n",
       "      <td>1</td>\n",
       "      <td>144.95644</td>\n",
       "      <td>-37.79393</td>\n",
       "      <td>2</td>\n",
       "    </tr>\n",
       "    <tr>\n",
       "      <th>3</th>\n",
       "      <td>2011</td>\n",
       "      <td>913</td>\n",
       "      <td>106769</td>\n",
       "      <td>106769</td>\n",
       "      <td>58 Morrah Street PARKVILLE 3052</td>\n",
       "      <td>Parkville</td>\n",
       "      <td>Residential</td>\n",
       "      <td>1</td>\n",
       "      <td>144.95550</td>\n",
       "      <td>-37.79525</td>\n",
       "      <td>3</td>\n",
       "    </tr>\n",
       "    <tr>\n",
       "      <th>4</th>\n",
       "      <td>2011</td>\n",
       "      <td>913</td>\n",
       "      <td>107340</td>\n",
       "      <td>107340</td>\n",
       "      <td>54-58 Park Drive PARKVILLE 3052</td>\n",
       "      <td>Parkville</td>\n",
       "      <td>Residential</td>\n",
       "      <td>2</td>\n",
       "      <td>144.95533</td>\n",
       "      <td>-37.79513</td>\n",
       "      <td>4</td>\n",
       "    </tr>\n",
       "  </tbody>\n",
       "</table>\n",
       "</div>"
      ],
      "text/plain": [
       "   census_year  block_id  property_id  base_property_id  \\\n",
       "0         2011       912       102432            102432   \n",
       "1         2011       912       102433            102433   \n",
       "2         2011       912       107328            107328   \n",
       "3         2011       913       106769            106769   \n",
       "4         2011       913       107340            107340   \n",
       "\n",
       "                    building_address clue_small_area parking_type  \\\n",
       "0  35 Degraves Street PARKVILLE 3052       Parkville  Residential   \n",
       "1  37 Degraves Street PARKVILLE 3052       Parkville  Residential   \n",
       "2      110 Park Drive PARKVILLE 3052       Parkville  Residential   \n",
       "3    58 Morrah Street PARKVILLE 3052       Parkville  Residential   \n",
       "4    54-58 Park Drive PARKVILLE 3052       Parkville  Residential   \n",
       "\n",
       "   parking_spaces  longitude  latitude  id  \n",
       "0               2  144.95680 -37.79384   0  \n",
       "1               2  144.95673 -37.79384   1  \n",
       "2               1  144.95644 -37.79393   2  \n",
       "3               1  144.95550 -37.79525   3  \n",
       "4               2  144.95533 -37.79513   4  "
      ]
     },
     "execution_count": 15,
     "metadata": {},
     "output_type": "execute_result"
    }
   ],
   "source": [
    "# Import csv file to DataFrame\n",
    "import pandas as pd\n",
    "carpark_df = pd.read_csv(\"./Resources/tbl_off_street_car_park.csv\")\n",
    "\n",
    "# Add id column\n",
    "carpark_df['id'] = carpark_df.index\n",
    "\n",
    "# Load data into parking table\n",
    "carpark_df.to_sql(name='parking', con=engine, if_exists='append', index=False)\n",
    "\n",
    "carpark_df.head()"
   ]
  },
  {
   "cell_type": "code",
   "execution_count": 18,
   "metadata": {},
   "outputs": [
    {
     "name": "stdout",
     "output_type": "stream",
     "text": [
      "<class 'pandas.core.frame.DataFrame'>\n",
      "RangeIndex: 129657 entries, 0 to 129656\n",
      "Data columns (total 11 columns):\n",
      " #   Column            Non-Null Count   Dtype  \n",
      "---  ------            --------------   -----  \n",
      " 0   census_year       129657 non-null  int64  \n",
      " 1   block_id          129657 non-null  int64  \n",
      " 2   property_id       129657 non-null  int64  \n",
      " 3   base_property_id  129657 non-null  int64  \n",
      " 4   building_address  129657 non-null  object \n",
      " 5   clue_small_area   129657 non-null  object \n",
      " 6   parking_type      129657 non-null  object \n",
      " 7   parking_spaces    129657 non-null  int64  \n",
      " 8   longitude         128573 non-null  float64\n",
      " 9   latitude          128573 non-null  float64\n",
      " 10  id                129657 non-null  int64  \n",
      "dtypes: float64(2), int64(6), object(3)\n",
      "memory usage: 10.9+ MB\n"
     ]
    }
   ],
   "source": [
    "carpark_df.info()"
   ]
  },
  {
   "cell_type": "code",
   "execution_count": 17,
   "metadata": {},
   "outputs": [
    {
     "name": "stdout",
     "output_type": "stream",
     "text": [
      "[(0, 2011, 912, 102432, 102432, '35 Degraves Street PARKVILLE 3052', 'Parkville', 'Residential', 2, 144.9568, -37.79384), (1, 2011, 912, 102433, 102433, '37 Degraves Street PARKVILLE 3052', 'Parkville', 'Residential', 2, 144.95673, -37.79384), (2, 2011, 912, 107328, 107328, '110 Park Drive PARKVILLE 3052', 'Parkville', 'Residential', 1, 144.95644, -37.793929999999996), (3, 2011, 913, 106769, 106769, '58 Morrah Street PARKVILLE 3052', 'Parkville', 'Residential', 1, 144.9555, -37.79525), (4, 2011, 913, 107340, 107340, '54-58 Park Drive PARKVILLE 3052', 'Parkville', 'Residential', 2, 144.95533, -37.79513)]\n"
     ]
    }
   ],
   "source": [
    "# Show first 5 rows of the table\n",
    "cursor.execute(\"SELECT * FROM parking LIMIT 5;\")\n",
    "print(cursor.fetchall())"
   ]
  },
  {
   "cell_type": "code",
   "execution_count": 19,
   "metadata": {},
   "outputs": [],
   "source": [
    "session.close()"
   ]
  },
  {
   "cell_type": "code",
   "execution_count": null,
   "metadata": {},
   "outputs": [],
   "source": []
  },
  {
   "cell_type": "code",
   "execution_count": null,
   "metadata": {},
   "outputs": [],
   "source": []
  }
 ],
 "metadata": {
  "kernelspec": {
   "display_name": "PythonData",
   "language": "python",
   "name": "python3"
  },
  "language_info": {
   "codemirror_mode": {
    "name": "ipython",
    "version": 3
   },
   "file_extension": ".py",
   "mimetype": "text/x-python",
   "name": "python",
   "nbconvert_exporter": "python",
   "pygments_lexer": "ipython3",
   "version": "3.7.7"
  },
  "orig_nbformat": 4
 },
 "nbformat": 4,
 "nbformat_minor": 2
}
